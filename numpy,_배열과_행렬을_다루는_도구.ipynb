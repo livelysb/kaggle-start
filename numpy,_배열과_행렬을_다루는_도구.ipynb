{
  "nbformat": 4,
  "nbformat_minor": 0,
  "metadata": {
    "kernelspec": {
      "name": "python3",
      "display_name": "Python 3"
    },
    "toc": {
      "base_numbering": 1,
      "nav_menu": {
        "height": "144px",
        "width": "160px"
      },
      "number_sections": false,
      "sideBar": true,
      "skip_h1_title": false,
      "title_cell": "Table of Contents",
      "title_sidebar": "Contents",
      "toc_cell": false,
      "toc_position": {
        "height": "calc(100% - 180px)",
        "left": "10px",
        "top": "150px",
        "width": "211px"
      },
      "toc_section_display": true,
      "toc_window_display": true
    },
    "varInspector": {
      "cols": {
        "lenName": 16,
        "lenType": 16,
        "lenVar": 40
      },
      "kernels_config": {
        "python": {
          "delete_cmd_postfix": "",
          "delete_cmd_prefix": "del ",
          "library": "var_list.py",
          "varRefreshCmd": "print(var_dic_list())"
        },
        "r": {
          "delete_cmd_postfix": ") ",
          "delete_cmd_prefix": "rm(",
          "library": "var_list.r",
          "varRefreshCmd": "cat(var_dic_list()) "
        }
      },
      "types_to_exclude": [
        "module",
        "function",
        "builtin_function_or_method",
        "instance",
        "_Feature"
      ],
      "window_display": false
    },
    "colab": {
      "name": "numpy, 배열과 행렬을 다루는 도구.ipynb",
      "provenance": [],
      "collapsed_sections": [],
      "include_colab_link": true
    }
  },
  "cells": [
    {
      "cell_type": "markdown",
      "metadata": {
        "id": "view-in-github",
        "colab_type": "text"
      },
      "source": [
        "<a href=\"https://colab.research.google.com/github/livelysb/kaggle-start/blob/main/numpy%2C_%EB%B0%B0%EC%97%B4%EA%B3%BC_%ED%96%89%EB%A0%AC%EC%9D%84_%EB%8B%A4%EB%A3%A8%EB%8A%94_%EB%8F%84%EA%B5%AC.ipynb\" target=\"_parent\"><img src=\"https://colab.research.google.com/assets/colab-badge.svg\" alt=\"Open In Colab\"/></a>"
      ]
    },
    {
      "cell_type": "markdown",
      "metadata": {
        "id": "uTP-8SzOycJT"
      },
      "source": [
        "# numpy, 배열과 행렬을 다루는 도구"
      ]
    },
    {
      "cell_type": "code",
      "metadata": {
        "ExecuteTime": {
          "end_time": "2021-03-13T04:02:25.279643Z",
          "start_time": "2021-03-13T04:02:25.116803Z"
        },
        "id": "IY0XYo76ycJd"
      },
      "source": [
        "# numpy 임포트\n",
        "import numpy as np"
      ],
      "execution_count": null,
      "outputs": []
    },
    {
      "cell_type": "markdown",
      "metadata": {
        "id": "7N6Zl8SMycJe"
      },
      "source": [
        "## numpy 기본 1. 다차원 배열 만들기"
      ]
    },
    {
      "cell_type": "code",
      "metadata": {
        "ExecuteTime": {
          "end_time": "2021-03-13T04:02:25.304620Z",
          "start_time": "2021-03-13T04:02:25.283640Z"
        },
        "id": "fIgRhjdkycJf",
        "colab": {
          "base_uri": "https://localhost:8080/"
        },
        "outputId": "c6d2c127-fea8-4e93-e686-bcf3e18db461"
      },
      "source": [
        "# 1차원 배열 생성하기\n",
        "넘파이_배열1 = np.array([1,2,3,4])\n",
        "넘파이_배열1"
      ],
      "execution_count": null,
      "outputs": [
        {
          "output_type": "execute_result",
          "data": {
            "text/plain": [
              "array([1, 2, 3, 4])"
            ]
          },
          "metadata": {
            "tags": []
          },
          "execution_count": 2
        }
      ]
    },
    {
      "cell_type": "code",
      "metadata": {
        "ExecuteTime": {
          "end_time": "2021-03-13T04:02:25.318605Z",
          "start_time": "2021-03-13T04:02:25.309615Z"
        },
        "id": "85xhNr-mycJf",
        "colab": {
          "base_uri": "https://localhost:8080/"
        },
        "outputId": "ae25f6d5-bb21-427c-8987-ed560685c90e"
      },
      "source": [
        "# 2차원 배열 생성하기\n",
        "넘파이_배열2 = np.array([[1,2,3,4],[11,12,13,14]])\n",
        "넘파이_배열2"
      ],
      "execution_count": null,
      "outputs": [
        {
          "output_type": "execute_result",
          "data": {
            "text/plain": [
              "array([[ 1,  2,  3,  4],\n",
              "       [11, 12, 13, 14]])"
            ]
          },
          "metadata": {
            "tags": []
          },
          "execution_count": 3
        }
      ]
    },
    {
      "cell_type": "code",
      "metadata": {
        "ExecuteTime": {
          "end_time": "2021-03-13T04:02:25.331591Z",
          "start_time": "2021-03-13T04:02:25.324598Z"
        },
        "id": "gS2dJgavycJg",
        "colab": {
          "base_uri": "https://localhost:8080/"
        },
        "outputId": "edd913da-9103-4a36-ce4a-567dc8e26dc1"
      },
      "source": [
        "# 3차원 배열 생성하기\n",
        "넘파이_배열3 = np.array([ [[1,2,3,4],[11,12,13,14]],\n",
        "                [[21,22,23,24],[31,32,33,34]] ])\n",
        "넘파이_배열3"
      ],
      "execution_count": null,
      "outputs": [
        {
          "output_type": "execute_result",
          "data": {
            "text/plain": [
              "array([[[ 1,  2,  3,  4],\n",
              "        [11, 12, 13, 14]],\n",
              "\n",
              "       [[21, 22, 23, 24],\n",
              "        [31, 32, 33, 34]]])"
            ]
          },
          "metadata": {
            "tags": []
          },
          "execution_count": 4
        }
      ]
    },
    {
      "cell_type": "code",
      "metadata": {
        "ExecuteTime": {
          "end_time": "2021-03-13T04:02:25.342581Z",
          "start_time": "2021-03-13T04:02:25.333590Z"
        },
        "id": "Iin7l0MYycJh",
        "colab": {
          "base_uri": "https://localhost:8080/"
        },
        "outputId": "c54fa846-fe86-40c3-808e-c24643571fec"
      },
      "source": [
        "# 배열의 모양 보기\n",
        "print(넘파이_배열1.shape)\n",
        "print(넘파이_배열2.shape)\n",
        "print(넘파이_배열3.shape)"
      ],
      "execution_count": null,
      "outputs": [
        {
          "output_type": "stream",
          "text": [
            "(4,)\n",
            "(2, 4)\n",
            "(2, 2, 4)\n"
          ],
          "name": "stdout"
        }
      ]
    },
    {
      "cell_type": "code",
      "metadata": {
        "ExecuteTime": {
          "end_time": "2021-03-13T04:02:25.353572Z",
          "start_time": "2021-03-13T04:02:25.344578Z"
        },
        "id": "37Pvob-YycJi"
      },
      "source": [
        "z1 = np.zeros([4])    # 0 으로 채운 배열 만들기\n",
        "o2 = np.ones([3,4])   # 1 로 채운 배열 만들기\n",
        "r2 = np.random.randn(2,3)   # 랜덤한 숫자 배열 만들기"
      ],
      "execution_count": null,
      "outputs": []
    },
    {
      "cell_type": "code",
      "metadata": {
        "ExecuteTime": {
          "end_time": "2021-03-13T04:02:25.366557Z",
          "start_time": "2021-03-13T04:02:25.356568Z"
        },
        "id": "xLmXp46EycJm",
        "colab": {
          "base_uri": "https://localhost:8080/"
        },
        "outputId": "2de4ab27-afe4-4ad6-8091-c70e27dddb12"
      },
      "source": [
        "z1, o2, r2"
      ],
      "execution_count": null,
      "outputs": [
        {
          "output_type": "execute_result",
          "data": {
            "text/plain": [
              "(array([0., 0., 0., 0.]), array([[1., 1., 1., 1.],\n",
              "        [1., 1., 1., 1.],\n",
              "        [1., 1., 1., 1.]]), array([[ 1.40191733, -0.45638921,  0.65412827],\n",
              "        [ 0.37313099, -0.6024571 ,  1.04497119]]))"
            ]
          },
          "metadata": {
            "tags": []
          },
          "execution_count": 7
        }
      ]
    },
    {
      "cell_type": "code",
      "metadata": {
        "ExecuteTime": {
          "end_time": "2021-03-13T04:02:25.377546Z",
          "start_time": "2021-03-13T04:02:25.371552Z"
        },
        "id": "2FLRIEsQycJm",
        "colab": {
          "base_uri": "https://localhost:8080/"
        },
        "outputId": "d39d768d-5312-4720-ef82-ccbb10c95ae8"
      },
      "source": [
        "# 배열의 모양 보기\n",
        "print(z1.shape)\n",
        "print(o2.shape)\n",
        "print(r2.shape)"
      ],
      "execution_count": null,
      "outputs": [
        {
          "output_type": "stream",
          "text": [
            "(4,)\n",
            "(3, 4)\n",
            "(2, 3)\n"
          ],
          "name": "stdout"
        }
      ]
    },
    {
      "cell_type": "code",
      "metadata": {
        "ExecuteTime": {
          "end_time": "2021-03-13T04:02:25.393532Z",
          "start_time": "2021-03-13T04:02:25.384540Z"
        },
        "id": "ymFqkU90ycJn",
        "colab": {
          "base_uri": "https://localhost:8080/"
        },
        "outputId": "0527ec01-7e27-4574-c50f-42bd61f51c2e"
      },
      "source": [
        "# 무척 큰 4차원 배열 생성해보기\n",
        "r4 = np.random.randn(2,2,4,5).round(3)\n",
        "r4"
      ],
      "execution_count": null,
      "outputs": [
        {
          "output_type": "execute_result",
          "data": {
            "text/plain": [
              "array([[[[-0.65 , -2.849,  0.858, -0.571,  0.139],\n",
              "         [-0.971,  0.039,  1.474,  1.128,  0.602],\n",
              "         [ 0.028,  0.589, -0.634, -1.564, -0.937],\n",
              "         [ 1.387,  0.3  ,  0.234, -0.557,  1.662]],\n",
              "\n",
              "        [[-0.763, -1.209, -0.948, -1.312, -1.073],\n",
              "         [-0.588, -0.518,  0.89 ,  0.345,  0.017],\n",
              "         [ 0.754,  0.313, -1.566,  0.371,  0.07 ],\n",
              "         [-1.037, -1.447,  2.982,  0.042,  1.948]]],\n",
              "\n",
              "\n",
              "       [[[-1.536, -0.   , -0.863,  2.782,  0.894],\n",
              "         [ 0.649, -0.011,  1.074,  0.227, -0.499],\n",
              "         [-0.578, -1.351,  0.514,  0.489, -0.084],\n",
              "         [-1.246, -0.472,  2.041, -0.244,  0.837]],\n",
              "\n",
              "        [[ 1.435, -1.16 , -0.58 , -0.927, -0.39 ],\n",
              "         [-0.758,  0.313,  0.995, -0.919, -1.192],\n",
              "         [-1.809,  0.902,  1.996,  1.292,  0.354],\n",
              "         [-0.969,  0.772,  0.754, -1.051,  0.172]]]])"
            ]
          },
          "metadata": {
            "tags": []
          },
          "execution_count": 11
        }
      ]
    },
    {
      "cell_type": "markdown",
      "metadata": {
        "id": "uMA98k3OycJn"
      },
      "source": [
        "### <연습문제>\n",
        "1  3  5  7  9  \n",
        "2  4  6  8  10  \n",
        "  \n",
        "형태의 2x5 행렬을 만들어 보세요"
      ]
    },
    {
      "cell_type": "code",
      "metadata": {
        "id": "BZmGHzoLycJn"
      },
      "source": [
        " "
      ],
      "execution_count": null,
      "outputs": []
    },
    {
      "cell_type": "markdown",
      "metadata": {
        "id": "vhTyW_n9ycJn"
      },
      "source": [
        "## numpy 기본 2. Indexing과 Slicing"
      ]
    },
    {
      "cell_type": "code",
      "metadata": {
        "ExecuteTime": {
          "end_time": "2021-03-13T04:02:25.411513Z",
          "start_time": "2021-03-13T04:02:25.401523Z"
        },
        "id": "RMJzQ19tycJo",
        "colab": {
          "base_uri": "https://localhost:8080/"
        },
        "outputId": "0ffbc874-7a02-471b-9046-9af5f3c02d4e"
      },
      "source": [
        "# r4 배열에서, [두번째][첫번째] 접근해서 가져오기\n",
        "r4[1][0]"
      ],
      "execution_count": null,
      "outputs": [
        {
          "output_type": "execute_result",
          "data": {
            "text/plain": [
              "array([[-1.536, -0.   , -0.863,  2.782,  0.894],\n",
              "       [ 0.649, -0.011,  1.074,  0.227, -0.499],\n",
              "       [-0.578, -1.351,  0.514,  0.489, -0.084],\n",
              "       [-1.246, -0.472,  2.041, -0.244,  0.837]])"
            ]
          },
          "metadata": {
            "tags": []
          },
          "execution_count": 12
        }
      ]
    },
    {
      "cell_type": "code",
      "metadata": {
        "ExecuteTime": {
          "end_time": "2021-03-13T04:02:25.425501Z",
          "start_time": "2021-03-13T04:02:25.418507Z"
        },
        "id": "jERLz2jAycJo",
        "colab": {
          "base_uri": "https://localhost:8080/"
        },
        "outputId": "4384b197-dca0-4490-82cd-478a509b9023"
      },
      "source": [
        "r4[1][0][2]"
      ],
      "execution_count": null,
      "outputs": [
        {
          "output_type": "execute_result",
          "data": {
            "text/plain": [
              "array([-0.578, -1.351,  0.514,  0.489, -0.084])"
            ]
          },
          "metadata": {
            "tags": []
          },
          "execution_count": 13
        }
      ]
    },
    {
      "cell_type": "code",
      "metadata": {
        "ExecuteTime": {
          "end_time": "2021-03-13T04:02:25.440485Z",
          "start_time": "2021-03-13T04:02:25.427498Z"
        },
        "id": "dmwtHqGWycJo",
        "colab": {
          "base_uri": "https://localhost:8080/"
        },
        "outputId": "c9123ae5-52d2-4e68-8635-80a8fa422549"
      },
      "source": [
        "r4[1][0][2][4]"
      ],
      "execution_count": null,
      "outputs": [
        {
          "output_type": "execute_result",
          "data": {
            "text/plain": [
              "-0.084"
            ]
          },
          "metadata": {
            "tags": []
          },
          "execution_count": 14
        }
      ]
    },
    {
      "cell_type": "code",
      "metadata": {
        "ExecuteTime": {
          "end_time": "2021-03-13T04:02:25.454473Z",
          "start_time": "2021-03-13T04:02:25.444482Z"
        },
        "id": "w3qOEoosycJo",
        "colab": {
          "base_uri": "https://localhost:8080/"
        },
        "outputId": "96002cb1-8f36-44c4-c870-3d64290824d6"
      },
      "source": [
        "r4[1,0,2,4]   # 대괄호 대신 쉼표 , 도 차원 접근이 가능"
      ],
      "execution_count": null,
      "outputs": [
        {
          "output_type": "execute_result",
          "data": {
            "text/plain": [
              "-0.084"
            ]
          },
          "metadata": {
            "tags": []
          },
          "execution_count": 15
        }
      ]
    },
    {
      "cell_type": "code",
      "metadata": {
        "ExecuteTime": {
          "end_time": "2021-03-13T04:02:25.465460Z",
          "start_time": "2021-03-13T04:02:25.457468Z"
        },
        "id": "2XFluCoHycJo",
        "colab": {
          "base_uri": "https://localhost:8080/"
        },
        "outputId": "9dfbfee9-322a-49a9-820a-55a36afd1f19"
      },
      "source": [
        "r4[1][0][2][0:4:2]"
      ],
      "execution_count": null,
      "outputs": [
        {
          "output_type": "execute_result",
          "data": {
            "text/plain": [
              "array([-0.578,  0.514])"
            ]
          },
          "metadata": {
            "tags": []
          },
          "execution_count": 16
        }
      ]
    },
    {
      "cell_type": "code",
      "metadata": {
        "ExecuteTime": {
          "end_time": "2021-03-13T04:02:25.479446Z",
          "start_time": "2021-03-13T04:02:25.471454Z"
        },
        "id": "nsr2NpGYycJp",
        "colab": {
          "base_uri": "https://localhost:8080/"
        },
        "outputId": "679c7447-7679-4262-c183-ef4289d1b12a"
      },
      "source": [
        "r4[1][0][1:4:2]"
      ],
      "execution_count": null,
      "outputs": [
        {
          "output_type": "execute_result",
          "data": {
            "text/plain": [
              "array([[ 0.649, -0.011,  1.074,  0.227, -0.499],\n",
              "       [-1.246, -0.472,  2.041, -0.244,  0.837]])"
            ]
          },
          "metadata": {
            "tags": []
          },
          "execution_count": 17
        }
      ]
    },
    {
      "cell_type": "code",
      "metadata": {
        "ExecuteTime": {
          "end_time": "2021-03-13T04:02:25.491434Z",
          "start_time": "2021-03-13T04:02:25.482443Z"
        },
        "id": "pWbzUCZbycJp",
        "colab": {
          "base_uri": "https://localhost:8080/"
        },
        "outputId": "116981b1-d34d-4041-83c0-a69f0079dfff"
      },
      "source": [
        "# Indexing과 Slicing 같이 적용하기\n",
        "r4[1][0][1:4:2][1][3:]"
      ],
      "execution_count": null,
      "outputs": [
        {
          "output_type": "execute_result",
          "data": {
            "text/plain": [
              "array([-0.244,  0.837])"
            ]
          },
          "metadata": {
            "tags": []
          },
          "execution_count": 18
        }
      ]
    },
    {
      "cell_type": "code",
      "metadata": {
        "ExecuteTime": {
          "end_time": "2021-03-13T04:02:25.502423Z",
          "start_time": "2021-03-13T04:02:25.494432Z"
        },
        "id": "h_Fhc-mVycJp",
        "colab": {
          "base_uri": "https://localhost:8080/"
        },
        "outputId": "27f8d1ec-c03b-462e-8810-453fbdc34d9f"
      },
      "source": [
        "r4[1,0][1:4:2][1,3:]   # 모두 다 짬뽕!!"
      ],
      "execution_count": null,
      "outputs": [
        {
          "output_type": "execute_result",
          "data": {
            "text/plain": [
              "array([-0.244,  0.837])"
            ]
          },
          "metadata": {
            "tags": []
          },
          "execution_count": 19
        }
      ]
    },
    {
      "cell_type": "markdown",
      "metadata": {
        "id": "eeXdCr2cycJp"
      },
      "source": [
        "## numpy 기본 3. 배열 간 연산, Broadcasting, Aggregation"
      ]
    },
    {
      "cell_type": "code",
      "metadata": {
        "ExecuteTime": {
          "end_time": "2021-03-13T04:02:25.517409Z",
          "start_time": "2021-03-13T04:02:25.509419Z"
        },
        "id": "FwQLMQiZycJp",
        "colab": {
          "base_uri": "https://localhost:8080/"
        },
        "outputId": "d518ec5d-166b-4dbc-c773-f9d157253a42"
      },
      "source": [
        "arr = np.array([[1,2,3,4],[10,11,12,13]])\n",
        "arr"
      ],
      "execution_count": null,
      "outputs": [
        {
          "output_type": "execute_result",
          "data": {
            "text/plain": [
              "array([[ 1,  2,  3,  4],\n",
              "       [10, 11, 12, 13]])"
            ]
          },
          "metadata": {
            "tags": []
          },
          "execution_count": 20
        }
      ]
    },
    {
      "cell_type": "code",
      "metadata": {
        "ExecuteTime": {
          "end_time": "2021-03-13T04:02:25.529397Z",
          "start_time": "2021-03-13T04:02:25.523404Z"
        },
        "id": "sxW4eeo-ycJp",
        "colab": {
          "base_uri": "https://localhost:8080/"
        },
        "outputId": "dbc0728a-eb4b-4d47-e524-c2bd491c01a4"
      },
      "source": [
        "arr + arr    # 배열끼리 연산하기 (＋－*/ 모두 가능)"
      ],
      "execution_count": null,
      "outputs": [
        {
          "output_type": "execute_result",
          "data": {
            "text/plain": [
              "array([[ 2,  4,  6,  8],\n",
              "       [20, 22, 24, 26]])"
            ]
          },
          "metadata": {
            "tags": []
          },
          "execution_count": 21
        }
      ]
    },
    {
      "cell_type": "code",
      "metadata": {
        "ExecuteTime": {
          "end_time": "2021-03-13T04:02:25.544382Z",
          "start_time": "2021-03-13T04:02:25.532394Z"
        },
        "id": "-CathQUtycJq",
        "colab": {
          "base_uri": "https://localhost:8080/"
        },
        "outputId": "21dfa635-7fc6-4b67-b3dc-1a15546b3279"
      },
      "source": [
        "arr + 20     # 덧셈 브로드캐스팅"
      ],
      "execution_count": null,
      "outputs": [
        {
          "output_type": "execute_result",
          "data": {
            "text/plain": [
              "array([[21, 22, 23, 24],\n",
              "       [30, 31, 32, 33]])"
            ]
          },
          "metadata": {
            "tags": []
          },
          "execution_count": 22
        }
      ]
    },
    {
      "cell_type": "code",
      "metadata": {
        "ExecuteTime": {
          "end_time": "2021-03-13T04:02:25.554372Z",
          "start_time": "2021-03-13T04:02:25.547380Z"
        },
        "id": "Mf9bjB1NycJq",
        "colab": {
          "base_uri": "https://localhost:8080/"
        },
        "outputId": "8b530c31-dbf9-4994-e150-bccc997be14e"
      },
      "source": [
        "arr * 100    # 곱셈 브로드캐스팅"
      ],
      "execution_count": null,
      "outputs": [
        {
          "output_type": "execute_result",
          "data": {
            "text/plain": [
              "array([[ 100,  200,  300,  400],\n",
              "       [1000, 1100, 1200, 1300]])"
            ]
          },
          "metadata": {
            "tags": []
          },
          "execution_count": 23
        }
      ]
    },
    {
      "cell_type": "code",
      "metadata": {
        "ExecuteTime": {
          "end_time": "2021-03-13T04:02:25.571355Z",
          "start_time": "2021-03-13T04:02:25.561369Z"
        },
        "id": "Kwmn62qNycJr",
        "colab": {
          "base_uri": "https://localhost:8080/"
        },
        "outputId": "9f8c78fd-ddb0-49e6-e0a6-674aecc836a4"
      },
      "source": [
        "# 배열 전체의 덧셈, 평균, 곱셈, 최댓값, 최솟값\n",
        "arr.sum(), arr.mean(), arr.prod(), arr.max(), arr.min()"
      ],
      "execution_count": null,
      "outputs": [
        {
          "output_type": "execute_result",
          "data": {
            "text/plain": [
              "(56, 7.0, 411840, 13, 1)"
            ]
          },
          "metadata": {
            "tags": []
          },
          "execution_count": 24
        }
      ]
    },
    {
      "cell_type": "code",
      "metadata": {
        "ExecuteTime": {
          "end_time": "2021-03-13T04:02:25.582345Z",
          "start_time": "2021-03-13T04:02:25.575353Z"
        },
        "id": "VpacetWhycJr",
        "colab": {
          "base_uri": "https://localhost:8080/"
        },
        "outputId": "44ddd52c-e0e1-4546-a9c5-8913af5912b3"
      },
      "source": [
        "# 배열에서의 최대인 원소의 번호, 최소인 원소의 번호\n",
        "arr.argmax(), arr[1].argmax(), arr.argmin()"
      ],
      "execution_count": null,
      "outputs": [
        {
          "output_type": "execute_result",
          "data": {
            "text/plain": [
              "(7, 3, 0)"
            ]
          },
          "metadata": {
            "tags": []
          },
          "execution_count": 25
        }
      ]
    },
    {
      "cell_type": "code",
      "metadata": {
        "ExecuteTime": {
          "end_time": "2021-03-13T04:02:25.593334Z",
          "start_time": "2021-03-13T04:02:25.587341Z"
        },
        "id": "95sWYtcRycJr",
        "colab": {
          "base_uri": "https://localhost:8080/"
        },
        "outputId": "c5139008-ff9d-4850-80ad-85e722c7e0f0"
      },
      "source": [
        "# 특정 축(차원)으로 덧셈 수행하기\n",
        "arr.sum(axis=0), arr.sum(axis=1)"
      ],
      "execution_count": null,
      "outputs": [
        {
          "output_type": "execute_result",
          "data": {
            "text/plain": [
              "(array([11, 13, 15, 17]), array([10, 46]))"
            ]
          },
          "metadata": {
            "tags": []
          },
          "execution_count": 26
        }
      ]
    },
    {
      "cell_type": "code",
      "metadata": {
        "ExecuteTime": {
          "end_time": "2021-03-13T04:02:25.606321Z",
          "start_time": "2021-03-13T04:02:25.596332Z"
        },
        "id": "EOWQec38ycJr",
        "colab": {
          "base_uri": "https://localhost:8080/"
        },
        "outputId": "94543fa9-e558-4167-a65e-7392d4db120b"
      },
      "source": [
        "# Indexing + Slicing + Aggregation 응용\n",
        "arr[1].min(), arr[1][2:].sum()"
      ],
      "execution_count": null,
      "outputs": [
        {
          "output_type": "execute_result",
          "data": {
            "text/plain": [
              "(10, 25)"
            ]
          },
          "metadata": {
            "tags": []
          },
          "execution_count": 27
        }
      ]
    },
    {
      "cell_type": "markdown",
      "metadata": {
        "ExecuteTime": {
          "end_time": "2021-03-06T17:53:13.038629Z",
          "start_time": "2021-03-06T17:53:13.035632Z"
        },
        "id": "UOoHZ-h1ycJs"
      },
      "source": [
        "## numpy 기본 4. 고급 Broadcasting"
      ]
    },
    {
      "cell_type": "code",
      "metadata": {
        "ExecuteTime": {
          "end_time": "2021-03-13T04:02:25.619308Z",
          "start_time": "2021-03-13T04:02:25.608319Z"
        },
        "id": "VMZJ778UycJs",
        "colab": {
          "base_uri": "https://localhost:8080/"
        },
        "outputId": "1c86cad5-04a8-4ac6-85ef-541adc0a2d7d"
      },
      "source": [
        "arr1 = np.array([[0,0,0],[10,10,10],[20,20,20],[30,30,30]])\n",
        "arr2 = np.array([[0,1,2],[0,1,2],[0,1,2],[0,1,2]])\n",
        "arr1.shape, arr2.shape"
      ],
      "execution_count": null,
      "outputs": [
        {
          "output_type": "execute_result",
          "data": {
            "text/plain": [
              "((4, 3), (4, 3))"
            ]
          },
          "metadata": {
            "tags": []
          },
          "execution_count": 28
        }
      ]
    },
    {
      "cell_type": "code",
      "metadata": {
        "ExecuteTime": {
          "end_time": "2021-03-13T04:02:25.628300Z",
          "start_time": "2021-03-13T04:02:25.622306Z"
        },
        "id": "G3Gr1xhMycJs",
        "colab": {
          "base_uri": "https://localhost:8080/"
        },
        "outputId": "e18c3da2-5769-44a9-b847-d9842b45e186"
      },
      "source": [
        "arr1 + arr2          # (4x3)  +  (4x3)"
      ],
      "execution_count": null,
      "outputs": [
        {
          "output_type": "execute_result",
          "data": {
            "text/plain": [
              "array([[ 0,  1,  2],\n",
              "       [10, 11, 12],\n",
              "       [20, 21, 22],\n",
              "       [30, 31, 32]])"
            ]
          },
          "metadata": {
            "tags": []
          },
          "execution_count": 29
        }
      ]
    },
    {
      "cell_type": "code",
      "metadata": {
        "ExecuteTime": {
          "end_time": "2021-03-13T04:02:25.641286Z",
          "start_time": "2021-03-13T04:02:25.630297Z"
        },
        "id": "EC4npxFpycJs",
        "colab": {
          "base_uri": "https://localhost:8080/"
        },
        "outputId": "fe62fd25-faa4-4de5-faea-e5c623d82e3c"
      },
      "source": [
        "arr1 + np.array([0,1,2])     # (4x3) + (1x3)"
      ],
      "execution_count": null,
      "outputs": [
        {
          "output_type": "execute_result",
          "data": {
            "text/plain": [
              "array([[ 0,  1,  2],\n",
              "       [10, 11, 12],\n",
              "       [20, 21, 22],\n",
              "       [30, 31, 32]])"
            ]
          },
          "metadata": {
            "tags": []
          },
          "execution_count": 30
        }
      ]
    },
    {
      "cell_type": "code",
      "metadata": {
        "ExecuteTime": {
          "end_time": "2021-03-13T04:02:25.656271Z",
          "start_time": "2021-03-13T04:02:25.644284Z"
        },
        "id": "MTEyAvWLycJs",
        "colab": {
          "base_uri": "https://localhost:8080/"
        },
        "outputId": "0b0b22d3-6b88-40fa-bd23-77a70c93b37e"
      },
      "source": [
        "#  (4x1) + (1x3)\n",
        "np.array([[0],[10],[20],[30]]) + np.array([0,1,2])"
      ],
      "execution_count": null,
      "outputs": [
        {
          "output_type": "execute_result",
          "data": {
            "text/plain": [
              "array([[ 0,  1,  2],\n",
              "       [10, 11, 12],\n",
              "       [20, 21, 22],\n",
              "       [30, 31, 32]])"
            ]
          },
          "metadata": {
            "tags": []
          },
          "execution_count": 31
        }
      ]
    },
    {
      "cell_type": "code",
      "metadata": {
        "id": "FAp_cSpSycJt",
        "colab": {
          "base_uri": "https://localhost:8080/"
        },
        "outputId": "52988d6c-dd38-485a-ede7-262a8d2f674b"
      },
      "source": [
        "np.array([0,1,2])"
      ],
      "execution_count": null,
      "outputs": [
        {
          "output_type": "execute_result",
          "data": {
            "text/plain": [
              "array([0, 1, 2])"
            ]
          },
          "metadata": {
            "tags": []
          },
          "execution_count": 33
        }
      ]
    }
  ]
}