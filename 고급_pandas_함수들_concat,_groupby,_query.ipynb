{
  "nbformat": 4,
  "nbformat_minor": 0,
  "metadata": {
    "kernelspec": {
      "name": "python3",
      "display_name": "Python 3"
    },
    "toc": {
      "base_numbering": 1,
      "nav_menu": {},
      "number_sections": false,
      "sideBar": true,
      "skip_h1_title": false,
      "title_cell": "Table of Contents",
      "title_sidebar": "Contents",
      "toc_cell": false,
      "toc_position": {},
      "toc_section_display": true,
      "toc_window_display": true
    },
    "varInspector": {
      "cols": {
        "lenName": 16,
        "lenType": 16,
        "lenVar": 40
      },
      "kernels_config": {
        "python": {
          "delete_cmd_postfix": "",
          "delete_cmd_prefix": "del ",
          "library": "var_list.py",
          "varRefreshCmd": "print(var_dic_list())"
        },
        "r": {
          "delete_cmd_postfix": ") ",
          "delete_cmd_prefix": "rm(",
          "library": "var_list.r",
          "varRefreshCmd": "cat(var_dic_list()) "
        }
      },
      "types_to_exclude": [
        "module",
        "function",
        "builtin_function_or_method",
        "instance",
        "_Feature"
      ],
      "window_display": false
    },
    "colab": {
      "name": "고급 pandas 함수들 - concat, groupby, query.ipynb",
      "provenance": [],
      "collapsed_sections": [],
      "toc_visible": true,
      "include_colab_link": true
    }
  },
  "cells": [
    {
      "cell_type": "markdown",
      "metadata": {
        "id": "view-in-github",
        "colab_type": "text"
      },
      "source": [
        "<a href=\"https://colab.research.google.com/github/livelysb/kaggle-start/blob/main/%EA%B3%A0%EA%B8%89_pandas_%ED%95%A8%EC%88%98%EB%93%A4_concat%2C_groupby%2C_query.ipynb\" target=\"_parent\"><img src=\"https://colab.research.google.com/assets/colab-badge.svg\" alt=\"Open In Colab\"/></a>"
      ]
    },
    {
      "cell_type": "markdown",
      "metadata": {
        "id": "CznTI79azWsz"
      },
      "source": [
        "# 고급 pandas 함수들 - concat, groupby, query "
      ]
    },
    {
      "cell_type": "markdown",
      "metadata": {
        "id": "wXSX_YdczWs7"
      },
      "source": [
        "# 라이브러리 임포트"
      ]
    },
    {
      "cell_type": "code",
      "metadata": {
        "ExecuteTime": {
          "end_time": "2021-03-13T04:05:35.022832Z",
          "start_time": "2021-03-13T04:05:31.769039Z"
        },
        "id": "QTciIf5hzWs8"
      },
      "source": [
        "import pandas as pd\n",
        "import matplotlib.pyplot as plt\n",
        "import seaborn as sns\n",
        "sns.set()\n",
        "\n",
        "plt.rcParams['font.family'] = 'Malgun Gothic'  # (Windows 용) 한글 출력을 위한 글꼴 설정\n",
        "#plt.rcParams['font.family'] = 'AppleGothic'  # (MAC, 리눅스 용)\n",
        "\n",
        "plt.rcParams['axes.unicode_minus'] = False    # 문자 - (마이너스) 정상 출력을 위한 코드"
      ],
      "execution_count": null,
      "outputs": []
    },
    {
      "cell_type": "markdown",
      "metadata": {
        "id": "0L5hriGDzWs9"
      },
      "source": [
        "# 데이터 준비\n",
        "### **먼저 아래의 세 파일을 다운로드 받고, colab에 업로드합니다.**\n",
        "##### stock.adj_close.csv - https://drive.google.com/file/d/1AnWjtW9bdIqBEnxeOMfST_Pxx2IVQfMJ/view?usp=sharing\n",
        "##### stockinfo.itemname.csv - https://drive.google.com/file/d/18pCREyPq41nK1VGSPZx5_RcL3D-sX4tB/view?usp=sharing\n",
        "##### stockinfo.sector.csv - https://drive.google.com/file/d/1HN85HsUqDCPKL0ulfwDzDAK6mf5cRrQ_/view?usp=sharing"
      ]
    },
    {
      "cell_type": "code",
      "metadata": {
        "ExecuteTime": {
          "end_time": "2021-03-13T04:05:35.418442Z",
          "start_time": "2021-03-13T04:05:35.024829Z"
        },
        "scrolled": true,
        "id": "rz5OeVdYzWs9"
      },
      "source": [
        "adj_close = pd.read_csv(\"stock.adj_close.csv\", index_col=0, encoding='cp949', parse_dates=True)"
      ],
      "execution_count": null,
      "outputs": []
    },
    {
      "cell_type": "code",
      "metadata": {
        "ExecuteTime": {
          "end_time": "2021-03-13T04:05:35.445415Z",
          "start_time": "2021-03-13T04:05:35.420440Z"
        },
        "id": "XBrOoLSzzWs9"
      },
      "source": [
        "itemname = pd.read_csv(\"stockinfo.itemname.csv\", index_col=0, encoding='cp949')\n",
        "sector = pd.read_csv(\"stockinfo.sector.csv\", index_col=0, encoding='cp949')\n",
        "\n",
        "stock_info = pd.concat([itemname, sector], axis=1)"
      ],
      "execution_count": null,
      "outputs": []
    },
    {
      "cell_type": "markdown",
      "metadata": {
        "id": "vO_78sRlzWs-"
      },
      "source": [
        " "
      ]
    },
    {
      "cell_type": "markdown",
      "metadata": {
        "id": "J-cvJKgMzWs-"
      },
      "source": [
        "# 고급 pandas 익히기"
      ]
    },
    {
      "cell_type": "code",
      "metadata": {
        "ExecuteTime": {
          "end_time": "2021-03-13T04:05:35.464396Z",
          "start_time": "2021-03-13T04:05:35.448412Z"
        },
        "id": "MZnrhn70zWs-"
      },
      "source": [
        "# 데이터 준비\n",
        "df_a = stock_info.iloc[:14]\n",
        "df_a"
      ],
      "execution_count": null,
      "outputs": []
    },
    {
      "cell_type": "code",
      "metadata": {
        "ExecuteTime": {
          "end_time": "2021-03-13T04:05:35.480380Z",
          "start_time": "2021-03-13T04:05:35.469391Z"
        },
        "id": "5niaPRjozWs_"
      },
      "source": [
        "df_b = adj_close.loc[:,'2020-10-13':].iloc[:14]\n",
        "df_b"
      ],
      "execution_count": null,
      "outputs": []
    },
    {
      "cell_type": "code",
      "metadata": {
        "ExecuteTime": {
          "end_time": "2021-03-13T04:05:35.501360Z",
          "start_time": "2021-03-13T04:05:35.485375Z"
        },
        "id": "2UP7jzKRzWs_"
      },
      "source": [
        "# .rename 함수를 이용, 딕셔너리로 컬럼 명을 바꿀 수 있습니다\n",
        "df_b = df_b.rename(columns={\n",
        "    '2020-10-13':'주가_10_13',\n",
        "    '2020-10-14':'주가_10_14'\n",
        "})\n",
        "df_b"
      ],
      "execution_count": null,
      "outputs": []
    },
    {
      "cell_type": "markdown",
      "metadata": {
        "id": "jwc-FE_8zWs_"
      },
      "source": [
        " "
      ]
    },
    {
      "cell_type": "markdown",
      "metadata": {
        "id": "O6zNZXR2zWtA"
      },
      "source": [
        "## .concat() - 여러 개의 DataFrame 합치기"
      ]
    },
    {
      "cell_type": "code",
      "metadata": {
        "ExecuteTime": {
          "end_time": "2021-03-13T04:05:35.530331Z",
          "start_time": "2021-03-13T04:05:35.503358Z"
        },
        "id": "XTROno7izWtA"
      },
      "source": [
        "pd.concat([df_a, df_b])"
      ],
      "execution_count": null,
      "outputs": []
    },
    {
      "cell_type": "markdown",
      "metadata": {
        "id": "cQCPQPC4zWtA"
      },
      "source": [
        " "
      ]
    },
    {
      "cell_type": "code",
      "metadata": {
        "ExecuteTime": {
          "end_time": "2021-03-13T04:05:35.551311Z",
          "start_time": "2021-03-13T04:05:35.534328Z"
        },
        "id": "auPjQK2MzWtA"
      },
      "source": [
        "my_concat_df = pd.concat([df_a, df_b], axis=1)\n",
        "my_concat_df"
      ],
      "execution_count": null,
      "outputs": []
    },
    {
      "cell_type": "markdown",
      "metadata": {
        "id": "bXfe6Q0YzWtB"
      },
      "source": [
        " "
      ]
    },
    {
      "cell_type": "markdown",
      "metadata": {
        "id": "S_PF1CUFzWtB"
      },
      "source": [
        "## .groupby() – 그룹으로 묶어서 Aggregation 하기"
      ]
    },
    {
      "cell_type": "code",
      "metadata": {
        "ExecuteTime": {
          "end_time": "2021-03-13T04:05:35.569294Z",
          "start_time": "2021-03-13T04:05:35.555307Z"
        },
        "id": "k5hznKFyzWtB"
      },
      "source": [
        "my_concat_df"
      ],
      "execution_count": null,
      "outputs": []
    },
    {
      "cell_type": "markdown",
      "metadata": {
        "id": "octok7mCzWtB"
      },
      "source": [
        " "
      ]
    },
    {
      "cell_type": "code",
      "metadata": {
        "ExecuteTime": {
          "end_time": "2021-03-13T04:05:35.589273Z",
          "start_time": "2021-03-13T04:05:35.572290Z"
        },
        "id": "30gcTO_azWtB"
      },
      "source": [
        "my_concat_df.groupby('Sector').sum()"
      ],
      "execution_count": null,
      "outputs": []
    },
    {
      "cell_type": "markdown",
      "metadata": {
        "id": "1lHg0svSzWtC"
      },
      "source": [
        " "
      ]
    },
    {
      "cell_type": "code",
      "metadata": {
        "ExecuteTime": {
          "end_time": "2021-03-13T04:05:35.607257Z",
          "start_time": "2021-03-13T04:05:35.595268Z"
        },
        "id": "LBVLZ7rOzWtC"
      },
      "source": [
        "my_concat_df.groupby('Sector').mean()"
      ],
      "execution_count": null,
      "outputs": []
    },
    {
      "cell_type": "markdown",
      "metadata": {
        "id": "uMy4hoJUzWtC"
      },
      "source": [
        " "
      ]
    },
    {
      "cell_type": "code",
      "metadata": {
        "ExecuteTime": {
          "end_time": "2021-03-13T04:05:35.632231Z",
          "start_time": "2021-03-13T04:05:35.610253Z"
        },
        "id": "P7AwpLdzzWtC"
      },
      "source": [
        "my_concat_df.groupby('Sector').count()"
      ],
      "execution_count": null,
      "outputs": []
    },
    {
      "cell_type": "markdown",
      "metadata": {
        "id": "CgS2QW-VzWtC"
      },
      "source": [
        " "
      ]
    },
    {
      "cell_type": "code",
      "metadata": {
        "ExecuteTime": {
          "end_time": "2021-03-13T04:05:35.654211Z",
          "start_time": "2021-03-13T04:05:35.634229Z"
        },
        "id": "q0Fs1pjPzWtD"
      },
      "source": [
        "my_concat_df.groupby('Sector').max()"
      ],
      "execution_count": null,
      "outputs": []
    },
    {
      "cell_type": "markdown",
      "metadata": {
        "id": "kXSv149dzWtD"
      },
      "source": [
        " "
      ]
    },
    {
      "cell_type": "markdown",
      "metadata": {
        "id": "JoWscxygzWtD"
      },
      "source": [
        "## .query() - DataFrame 필터링하기"
      ]
    },
    {
      "cell_type": "code",
      "metadata": {
        "ExecuteTime": {
          "end_time": "2021-03-13T04:05:35.673190Z",
          "start_time": "2021-03-13T04:05:35.659204Z"
        },
        "id": "yw8txvWtzWtD"
      },
      "source": [
        "my_concat_df"
      ],
      "execution_count": null,
      "outputs": []
    },
    {
      "cell_type": "markdown",
      "metadata": {
        "id": "fO0AvqmrzWtE"
      },
      "source": [
        " "
      ]
    },
    {
      "cell_type": "code",
      "metadata": {
        "ExecuteTime": {
          "end_time": "2021-03-13T04:05:35.704159Z",
          "start_time": "2021-03-13T04:05:35.675189Z"
        },
        "id": "KMDGkEGRzWtE"
      },
      "source": [
        "my_concat_df.query('Sector == \"운송\"')"
      ],
      "execution_count": null,
      "outputs": []
    },
    {
      "cell_type": "markdown",
      "metadata": {
        "id": "4bgcD_XjzWtE"
      },
      "source": [
        " "
      ]
    },
    {
      "cell_type": "code",
      "metadata": {
        "ExecuteTime": {
          "end_time": "2021-03-13T04:05:35.721143Z",
          "start_time": "2021-03-13T04:05:35.706158Z"
        },
        "id": "nf6ZRBXDzWtF"
      },
      "source": [
        "my_concat_df.query('Sector == \"제약_및_바이오\"')"
      ],
      "execution_count": null,
      "outputs": []
    },
    {
      "cell_type": "markdown",
      "metadata": {
        "id": "XF20-zXpzWtF"
      },
      "source": [
        " "
      ]
    },
    {
      "cell_type": "code",
      "metadata": {
        "ExecuteTime": {
          "end_time": "2021-03-13T04:05:35.749116Z",
          "start_time": "2021-03-13T04:05:35.724141Z"
        },
        "id": "xyTlQGWtzWtF"
      },
      "source": [
        "my_concat_df.query('주가_10_13 > 20000')"
      ],
      "execution_count": null,
      "outputs": []
    },
    {
      "cell_type": "markdown",
      "metadata": {
        "id": "En4nf25mzWtG"
      },
      "source": [
        " "
      ]
    },
    {
      "cell_type": "code",
      "metadata": {
        "ExecuteTime": {
          "end_time": "2021-03-13T04:05:35.768096Z",
          "start_time": "2021-03-13T04:05:35.752113Z"
        },
        "id": "W_nveRrBzWtG"
      },
      "source": [
        "my_concat_df.query('주가_10_13 > 20000  and  Sector == \"제약_및_바이오\"')"
      ],
      "execution_count": null,
      "outputs": []
    },
    {
      "cell_type": "markdown",
      "metadata": {
        "id": "VwQhR7AHzWtG"
      },
      "source": [
        " "
      ]
    },
    {
      "cell_type": "markdown",
      "metadata": {
        "id": "QD9dF3oIzWtG"
      },
      "source": [
        "### <연습문제 >\n",
        "my_concat_df에서 업종이 '음식료 및 담배'인 레코드를 출력해보세요"
      ]
    },
    {
      "cell_type": "code",
      "metadata": {
        "id": "qfGp_fACzWtH"
      },
      "source": [
        ""
      ],
      "execution_count": null,
      "outputs": []
    },
    {
      "cell_type": "markdown",
      "metadata": {
        "id": "7iAs-CB6zWtH"
      },
      "source": [
        " "
      ]
    },
    {
      "cell_type": "code",
      "metadata": {
        "id": "8bxszLhGzWtH"
      },
      "source": [
        ""
      ],
      "execution_count": null,
      "outputs": []
    }
  ]
}